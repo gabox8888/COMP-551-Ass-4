{
 "cells": [
  {
   "cell_type": "code",
   "execution_count": 28,
   "metadata": {
    "collapsed": false
   },
   "outputs": [
    {
     "data": {
      "text/html": [
       "<script>\n",
       "code_show=true; \n",
       "function code_toggle() {\n",
       " if (code_show){\n",
       " $('div.input').hide();\n",
       " } else {\n",
       " $('div.input').show();\n",
       " }\n",
       " code_show = !code_show\n",
       "} \n",
       "$( document ).ready(code_toggle);\n",
       "</script>\n",
       "<form action=\"javascript:code_toggle()\"><input type=\"submit\" value=\"Click here to toggle on/off the raw code.\"></form>"
      ],
      "text/plain": [
       "<IPython.core.display.HTML object>"
      ]
     },
     "execution_count": 28,
     "metadata": {},
     "output_type": "execute_result"
    }
   ],
   "source": [
    "from IPython.display import HTML\n",
    "\n",
    "HTML('''<script>\n",
    "code_show=true; \n",
    "function code_toggle() {\n",
    " if (code_show){\n",
    " $('div.input').hide();\n",
    " } else {\n",
    " $('div.input').show();\n",
    " }\n",
    " code_show = !code_show\n",
    "} \n",
    "$( document ).ready(code_toggle);\n",
    "</script>\n",
    "<form action=\"javascript:code_toggle()\"><input type=\"submit\" value=\"Click here to toggle on/off the raw code.\"></form>''')"
   ]
  },
  {
   "cell_type": "code",
   "execution_count": 1,
   "metadata": {
    "collapsed": false
   },
   "outputs": [
    {
     "name": "stderr",
     "output_type": "stream",
     "text": [
      "/Users/RyanSampana/anaconda2/lib/python2.7/site-packages/matplotlib/font_manager.py:273: UserWarning: Matplotlib is building the font cache using fc-list. This may take a moment.\n",
      "  warnings.warn('Matplotlib is building the font cache using fc-list. This may take a moment.')\n",
      "/Users/RyanSampana/anaconda2/lib/python2.7/site-packages/sklearn/cross_validation.py:44: DeprecationWarning: This module was deprecated in version 0.18 in favor of the model_selection module into which all the refactored classes and functions are moved. Also note that the interface of the new CV iterators are different from that of this module. This module will be removed in 0.20.\n",
      "  \"This module will be removed in 0.20.\", DeprecationWarning)\n"
     ]
    }
   ],
   "source": [
    "import pandas as pd\n",
    "import numpy as np\n",
    "%matplotlib notebook\n",
    "import warnings\n",
    "warnings.filterwarnings('ignore')\n",
    "import matplotlib.pyplot as plt\n",
    "import itertools\n",
    "from sklearn import ensemble\n",
    "from sklearn import preprocessing\n",
    "from sklearn.cross_validation import train_test_split, KFold\n",
    "from sklearn.metrics import confusion_matrix, accuracy_score, auc, roc_curve\n",
    "from sklearn.naive_bayes import GaussianNB\n",
    "from sklearn.svm import SVC\n",
    "from mpl_toolkits.basemap import Basemap\n",
    "\n",
    "def plot_confusion_matrix(cm, classes,\n",
    "                          normalize=False,\n",
    "                          title='Confusion matrix',\n",
    "                          cmap=plt.cm.Blues):\n",
    "    \"\"\"\n",
    "    This function prints and plots the confusion matrix.\n",
    "    Normalization can be applied by setting `normalize=True`.\n",
    "    \"\"\"\n",
    "    plt.imshow(cm, interpolation='nearest', cmap=cmap)\n",
    "    plt.title(title)\n",
    "    plt.colorbar()\n",
    "    tick_marks = np.arange(len(classes))\n",
    "    plt.xticks(tick_marks, classes, rotation=45)\n",
    "    plt.yticks(tick_marks, classes)\n",
    "\n",
    "    if normalize:\n",
    "        cm = cm.astype('float') / cm.sum(axis=1)[:, np.newaxis]\n",
    "        print(\"Normalized confusion matrix\")\n",
    "    else:\n",
    "        print('Confusion matrix, without normalization')\n",
    "\n",
    "    print(cm)\n",
    "\n",
    "    thresh = cm.max() / 2.\n",
    "    for i, j in itertools.product(range(cm.shape[0]), range(cm.shape[1])):\n",
    "        plt.text(j, i, cm[i, j],\n",
    "                 horizontalalignment=\"center\",\n",
    "                 color=\"white\" if cm[i, j] > thresh else \"black\")\n",
    "\n",
    "    plt.tight_layout()\n",
    "    plt.ylabel('True label')\n",
    "    plt.xlabel('Predicted label')"
   ]
  },
  {
   "cell_type": "markdown",
   "metadata": {},
   "source": [
    "# Data Preprocess"
   ]
  },
  {
   "cell_type": "code",
   "execution_count": 2,
   "metadata": {
    "collapsed": false
   },
   "outputs": [],
   "source": [
    "df = pd.read_csv('./data/final/completed_final_asian_carp.csv')"
   ]
  },
  {
   "cell_type": "code",
   "execution_count": 3,
   "metadata": {
    "collapsed": false
   },
   "outputs": [],
   "source": [
    "def make_cluster_df(df):\n",
    "    length = []\n",
    "    n_abs = []\n",
    "    n_pres = []\n",
    "    clusters = np.unique(df['cluster'])\n",
    "    for cluster in clusters:\n",
    "        ye = df[df['cluster'] == cluster]\n",
    "        length.append(len(ye))\n",
    "        n_abs.append(len(ye[ye['status']==0.0]))\n",
    "        n_pres.append(len(ye[ye['status']==1.0]))\n",
    "\n",
    "    out_df = pd.DataFrame([clusters,length,n_abs,n_pres])\n",
    "    out_df = out_df.T\n",
    "    out_df.columns = ['cluster','length','n_abs','n_pres']\n",
    "    out_df = out_df.set_index(['cluster'])\n",
    "    return out_df\n",
    "\n",
    "list_of_features = ['May_Mean_Temp1', 'May_Mean_Precip1', 'Slope', 'Elevation', \n",
    "                    'FlowDir','FlowAcc_Flow1', 'StreamO_over1']\n",
    "\n",
    "def special_kfold(df,test_clusters = 1,list_of_features=['May_Mean_Temp1', 'May_Mean_Precip1', 'Slope', 'Elevation', \n",
    "                    'FlowDir','FlowAcc_Flow1', 'StreamO_over1']):\n",
    "    \n",
    "    if type(test_clusters) == int:\n",
    "        X_train = df[list_of_features][df['cluster'] != test_clusters]\n",
    "        X_test = df[list_of_features][df['cluster'] == test_clusters]\n",
    "       \n",
    "        y_train = df['status'][df['cluster'] != test_clusters]\n",
    "        y_test = df['status'][df['cluster'] == test_clusters]\n",
    "    \n",
    "    else:\n",
    "        X_train_string = \"df[\"\n",
    "        X_test_string = \"df[\"\n",
    "        \n",
    "        for a_cluster in test_clusters:\n",
    "            X_train_string += \"(df['cluster'] !=\"+str(a_cluster)+\") &\"\n",
    "            X_test_string += \"(df['cluster'] ==\"+str(a_cluster)+\") |\"\n",
    "       \n",
    "        X_train_string = X_train_string[:-1]\n",
    "        X_train_string += \"]\"\n",
    "        X_train = eval(X_train_string)\n",
    "        y_train = X_train['status']\n",
    "        X_train = X_train[list_of_features]\n",
    "        \n",
    "        X_test_string = X_test_string[:-1]\n",
    "        X_test_string += \"]\"\n",
    "        X_test = eval(X_test_string)\n",
    "        y_test = X_test['status']\n",
    "        X_test = X_test[list_of_features]\n",
    "        \n",
    "    #return X_train,y_train,X_test,y_test\n",
    "    return np.array(X_train),np.array(y_train),np.array(X_test),np.array(y_test)\n",
    "    \n",
    "df_cluster = make_cluster_df(df)"
   ]
  },
  {
   "cell_type": "code",
   "execution_count": 4,
   "metadata": {
    "collapsed": false
   },
   "outputs": [],
   "source": [
    "big_clusters = df_cluster[(df_cluster['length']<=df_cluster.length.max()) &\n",
    "                          (df_cluster['length']>=df_cluster.length.max()/3.0)].index"
   ]
  },
  {
   "cell_type": "code",
   "execution_count": 5,
   "metadata": {
    "collapsed": false
   },
   "outputs": [
    {
     "data": {
      "text/plain": [
       "Int64Index([0, 18, 23, 37, 42, 66], dtype='int64', name=u'cluster')"
      ]
     },
     "execution_count": 5,
     "metadata": {},
     "output_type": "execute_result"
    }
   ],
   "source": [
    "big_clusters"
   ]
  },
  {
   "cell_type": "code",
   "execution_count": 6,
   "metadata": {
    "collapsed": false
   },
   "outputs": [
    {
     "data": {
      "text/plain": [
       "<matplotlib.text.Text at 0x11572e9d0>"
      ]
     },
     "execution_count": 6,
     "metadata": {},
     "output_type": "execute_result"
    },
    {
     "data": {
      "image/png": "[encoded data removed]",
      "text/plain": [
       "<matplotlib.figure.Figure at 0x103e7f390>"
      ]
     },
     "metadata": {},
     "output_type": "display_data"
    }
   ],
   "source": [
    "%matplotlib inline\n",
    "plt.figure()\n",
    "for cluster in big_clusters:\n",
    "    x = df['decimalLongitude'][df['cluster']==cluster]\n",
    "    y = df['decimalLatitude'][df['cluster']== cluster]\n",
    "    plt.plot(x,y,label=str(cluster),marker='.',linewidth=0)\n",
    "plt.legend(bbox_to_anchor=(0., 1.02, 1., .102), loc=3,\n",
    "           ncol=2, mode=\"expand\", borderaxespad=0.)    \n",
    "plt.xlabel('decimalLongitude')\n",
    "plt.ylabel('decimalLatitude')"
   ]
  },
  {
   "cell_type": "markdown",
   "metadata": {},
   "source": [
    "# ML starts here"
   ]
  },
  {
   "cell_type": "markdown",
   "metadata": {},
   "source": [
    "# First lets try Naive Bayes"
   ]
  },
  {
   "cell_type": "code",
   "execution_count": 14,
   "metadata": {
    "collapsed": false
   },
   "outputs": [],
   "source": [
    "from sklearn.naive_bayes import GaussianNB\n",
    "from sklearn.metrics import roc_auc_score\n",
    "from concurrent.futures import ThreadPoolExecutor\n",
    "import itertools\n",
    "from functools import partial\n",
    "\n",
    "\n",
    "def parallel_classify(my_clf,list_of_features,test_clusters,df):\n",
    "    X_train,y_train,X_test,y_test = special_kfold(df,\n",
    "                                                  test_clusters = test_clusters,\n",
    "                                                  list_of_features = list_of_features)\n",
    "    my_clf.fit(X_train,y_train)\n",
    "    y_pred = my_clf.predict(X_test)\n",
    "    \n",
    "    return (accuracy_score(y_true=y_test,y_pred=y_pred),\n",
    "            confusion_matrix(y_true=y_test,y_pred=y_pred))\n",
    "\n",
    "def testy(test_model = GaussianNB):\n",
    "    feature_list = []\n",
    "    acc = []\n",
    "    list_of_features = ['May_Mean_Temp1', 'May_Mean_Precip1', 'Slope', 'Elevation', \n",
    "                    'FlowDir','FlowAcc_Flow1', 'StreamO_over1']\n",
    "    best_clusters = [23,18]\n",
    "    permutations_of_features = []\n",
    "    \n",
    "    for r in range(2,len(list_of_features)):\n",
    "        for x in itertools.combinations(list_of_features,r=r):\n",
    "            permutations_of_features.append(x)\n",
    "\n",
    "    e = ThreadPoolExecutor(4)\n",
    "    \n",
    "    futures = [e.submit(parallel_classify,my_clf=test_model(),\n",
    "                        list_of_features=list(permutation),\n",
    "                        test_clusters=best_clusters,df=df) for permutation in permutations_of_features]\n",
    "    \n",
    "    results = [f.result() for f in futures]\n",
    "    \n",
    "    accs,cnf_matricies = zip(*results)\n",
    "    \n",
    "    nb_results = pd.DataFrame([permutations_of_features,list(accs),list(cnf_matricies)])\n",
    "    nb_results = nb_results.T\n",
    "    nb_results.columns = ['feature list','acc','confusion matrix']\n",
    "    nb_results_max = nb_results[nb_results['acc'] == nb_results.acc.max()]\n",
    "    \n",
    "    return nb_results, nb_results_max\n",
    "\n",
    "results_naive_bayes,best_naive_bayes = testy()"
   ]
  },
  {
   "cell_type": "markdown",
   "metadata": {},
   "source": [
    "###  Best Result"
   ]
  },
  {
   "cell_type": "code",
   "execution_count": 15,
   "metadata": {
    "collapsed": false
   },
   "outputs": [
    {
     "data": {
      "text/html": [
       "<div>\n",
       "<table border=\"1\" class=\"dataframe\">\n",
       "  <thead>\n",
       "    <tr style=\"text-align: right;\">\n",
       "      <th></th>\n",
       "      <th>feature list</th>\n",
       "      <th>acc</th>\n",
       "      <th>confusion matrix</th>\n",
       "    </tr>\n",
       "  </thead>\n",
       "  <tbody>\n",
       "    <tr>\n",
       "      <th>48</th>\n",
       "      <td>(Slope, Elevation, StreamO_over1)</td>\n",
       "      <td>0.899937</td>\n",
       "      <td>[[110, 44], [115, 1320]]</td>\n",
       "    </tr>\n",
       "  </tbody>\n",
       "</table>\n",
       "</div>"
      ],
      "text/plain": [
       "                         feature list       acc          confusion matrix\n",
       "48  (Slope, Elevation, StreamO_over1)  0.899937  [[110, 44], [115, 1320]]"
      ]
     },
     "execution_count": 15,
     "metadata": {},
     "output_type": "execute_result"
    }
   ],
   "source": [
    "best_naive_bayes"
   ]
  },
  {
   "cell_type": "markdown",
   "metadata": {},
   "source": [
    "### Some Top Results"
   ]
  },
  {
   "cell_type": "code",
   "execution_count": 29,
   "metadata": {
    "collapsed": false
   },
   "outputs": [
    {
     "data": {
      "text/html": [
       "<div>\n",
       "<table border=\"1\" class=\"dataframe\">\n",
       "  <thead>\n",
       "    <tr style=\"text-align: right;\">\n",
       "      <th></th>\n",
       "      <th>feature list</th>\n",
       "      <th>acc</th>\n",
       "      <th>confusion matrix</th>\n",
       "    </tr>\n",
       "  </thead>\n",
       "  <tbody>\n",
       "    <tr>\n",
       "      <th>14</th>\n",
       "      <td>(Slope, StreamO_over1)</td>\n",
       "      <td>0.89742</td>\n",
       "      <td>[[107, 47], [116, 1319]]</td>\n",
       "    </tr>\n",
       "    <tr>\n",
       "      <th>29</th>\n",
       "      <td>(May_Mean_Temp1, Slope, StreamO_over1)</td>\n",
       "      <td>0.89742</td>\n",
       "      <td>[[107, 47], [116, 1319]]</td>\n",
       "    </tr>\n",
       "    <tr>\n",
       "      <th>39</th>\n",
       "      <td>(May_Mean_Precip1, Slope, StreamO_over1)</td>\n",
       "      <td>0.89742</td>\n",
       "      <td>[[107, 47], [116, 1319]]</td>\n",
       "    </tr>\n",
       "    <tr>\n",
       "      <th>48</th>\n",
       "      <td>(Slope, Elevation, StreamO_over1)</td>\n",
       "      <td>0.899937</td>\n",
       "      <td>[[110, 44], [115, 1320]]</td>\n",
       "    </tr>\n",
       "    <tr>\n",
       "      <th>50</th>\n",
       "      <td>(Slope, FlowDir, StreamO_over1)</td>\n",
       "      <td>0.894273</td>\n",
       "      <td>[[109, 45], [123, 1312]]</td>\n",
       "    </tr>\n",
       "    <tr>\n",
       "      <th>59</th>\n",
       "      <td>(May_Mean_Temp1, May_Mean_Precip1, Slope, Stre...</td>\n",
       "      <td>0.89742</td>\n",
       "      <td>[[107, 47], [116, 1319]]</td>\n",
       "    </tr>\n",
       "    <tr>\n",
       "      <th>68</th>\n",
       "      <td>(May_Mean_Temp1, Slope, Elevation, StreamO_over1)</td>\n",
       "      <td>0.899308</td>\n",
       "      <td>[[109, 45], [115, 1320]]</td>\n",
       "    </tr>\n",
       "    <tr>\n",
       "      <th>70</th>\n",
       "      <td>(May_Mean_Temp1, Slope, FlowDir, StreamO_over1)</td>\n",
       "      <td>0.892385</td>\n",
       "      <td>[[109, 45], [126, 1309]]</td>\n",
       "    </tr>\n",
       "    <tr>\n",
       "      <th>78</th>\n",
       "      <td>(May_Mean_Precip1, Slope, Elevation, StreamO_o...</td>\n",
       "      <td>0.899308</td>\n",
       "      <td>[[109, 45], [115, 1320]]</td>\n",
       "    </tr>\n",
       "    <tr>\n",
       "      <th>80</th>\n",
       "      <td>(May_Mean_Precip1, Slope, FlowDir, StreamO_over1)</td>\n",
       "      <td>0.892385</td>\n",
       "      <td>[[109, 45], [126, 1309]]</td>\n",
       "    </tr>\n",
       "    <tr>\n",
       "      <th>87</th>\n",
       "      <td>(Slope, Elevation, FlowDir, StreamO_over1)</td>\n",
       "      <td>0.898678</td>\n",
       "      <td>[[109, 45], [116, 1319]]</td>\n",
       "    </tr>\n",
       "    <tr>\n",
       "      <th>93</th>\n",
       "      <td>(May_Mean_Temp1, May_Mean_Precip1, Slope, Elev...</td>\n",
       "      <td>0.89679</td>\n",
       "      <td>[[106, 48], [116, 1319]]</td>\n",
       "    </tr>\n",
       "    <tr>\n",
       "      <th>95</th>\n",
       "      <td>(May_Mean_Temp1, May_Mean_Precip1, Slope, Flow...</td>\n",
       "      <td>0.892385</td>\n",
       "      <td>[[109, 45], [126, 1309]]</td>\n",
       "    </tr>\n",
       "    <tr>\n",
       "      <th>102</th>\n",
       "      <td>(May_Mean_Temp1, Slope, Elevation, FlowDir, St...</td>\n",
       "      <td>0.898678</td>\n",
       "      <td>[[109, 45], [116, 1319]]</td>\n",
       "    </tr>\n",
       "    <tr>\n",
       "      <th>107</th>\n",
       "      <td>(May_Mean_Precip1, Slope, Elevation, FlowDir, ...</td>\n",
       "      <td>0.898678</td>\n",
       "      <td>[[109, 45], [116, 1319]]</td>\n",
       "    </tr>\n",
       "    <tr>\n",
       "      <th>113</th>\n",
       "      <td>(May_Mean_Temp1, May_Mean_Precip1, Slope, Elev...</td>\n",
       "      <td>0.894902</td>\n",
       "      <td>[[101, 53], [114, 1321]]</td>\n",
       "    </tr>\n",
       "  </tbody>\n",
       "</table>\n",
       "</div>"
      ],
      "text/plain": [
       "                                          feature list       acc  \\\n",
       "14                              (Slope, StreamO_over1)   0.89742   \n",
       "29              (May_Mean_Temp1, Slope, StreamO_over1)   0.89742   \n",
       "39            (May_Mean_Precip1, Slope, StreamO_over1)   0.89742   \n",
       "48                   (Slope, Elevation, StreamO_over1)  0.899937   \n",
       "50                     (Slope, FlowDir, StreamO_over1)  0.894273   \n",
       "59   (May_Mean_Temp1, May_Mean_Precip1, Slope, Stre...   0.89742   \n",
       "68   (May_Mean_Temp1, Slope, Elevation, StreamO_over1)  0.899308   \n",
       "70     (May_Mean_Temp1, Slope, FlowDir, StreamO_over1)  0.892385   \n",
       "78   (May_Mean_Precip1, Slope, Elevation, StreamO_o...  0.899308   \n",
       "80   (May_Mean_Precip1, Slope, FlowDir, StreamO_over1)  0.892385   \n",
       "87          (Slope, Elevation, FlowDir, StreamO_over1)  0.898678   \n",
       "93   (May_Mean_Temp1, May_Mean_Precip1, Slope, Elev...   0.89679   \n",
       "95   (May_Mean_Temp1, May_Mean_Precip1, Slope, Flow...  0.892385   \n",
       "102  (May_Mean_Temp1, Slope, Elevation, FlowDir, St...  0.898678   \n",
       "107  (May_Mean_Precip1, Slope, Elevation, FlowDir, ...  0.898678   \n",
       "113  (May_Mean_Temp1, May_Mean_Precip1, Slope, Elev...  0.894902   \n",
       "\n",
       "             confusion matrix  \n",
       "14   [[107, 47], [116, 1319]]  \n",
       "29   [[107, 47], [116, 1319]]  \n",
       "39   [[107, 47], [116, 1319]]  \n",
       "48   [[110, 44], [115, 1320]]  \n",
       "50   [[109, 45], [123, 1312]]  \n",
       "59   [[107, 47], [116, 1319]]  \n",
       "68   [[109, 45], [115, 1320]]  \n",
       "70   [[109, 45], [126, 1309]]  \n",
       "78   [[109, 45], [115, 1320]]  \n",
       "80   [[109, 45], [126, 1309]]  \n",
       "87   [[109, 45], [116, 1319]]  \n",
       "93   [[106, 48], [116, 1319]]  \n",
       "95   [[109, 45], [126, 1309]]  \n",
       "102  [[109, 45], [116, 1319]]  \n",
       "107  [[109, 45], [116, 1319]]  \n",
       "113  [[101, 53], [114, 1321]]  "
      ]
     },
     "execution_count": 29,
     "metadata": {},
     "output_type": "execute_result"
    }
   ],
   "source": [
    "results_naive_bayes[(results_naive_bayes['acc'] < 1.0) & (results_naive_bayes['acc'] > 0.85)]"
   ]
  },
  {
   "cell_type": "code",
   "execution_count": 16,
   "metadata": {
    "collapsed": false
   },
   "outputs": [],
   "source": [
    "# sums = []\n",
    "# for x in range(0,100):\n",
    "#     s,_ = parallel_classify(my_clf=GaussianNB(),\n",
    "#                             list_of_features=list_of_features[1:5],\n",
    "#                             test_clusters=x,\n",
    "#                             df=df)\n",
    "#     sums.append(s)\n",
    "# print np.max(sums)\n",
    "# print np.mean(sums)\n",
    "# print np.std(sums)"
   ]
  },
  {
   "cell_type": "markdown",
   "metadata": {},
   "source": [
    "# Now lets do an ensemble of 10 RandomForest Classifiers (default on sklearn)"
   ]
  },
  {
   "cell_type": "code",
   "execution_count": 21,
   "metadata": {
    "collapsed": false
   },
   "outputs": [],
   "source": [
    "from sklearn import ensemble\n",
    "rnd_forest = ensemble.RandomForestClassifier\n",
    "result_rnd_forest_default,max_rnd_forest_default = testy(test_model=rnd_forest)"
   ]
  },
  {
   "cell_type": "markdown",
   "metadata": {},
   "source": [
    "### Best result"
   ]
  },
  {
   "cell_type": "code",
   "execution_count": 22,
   "metadata": {
    "collapsed": false
   },
   "outputs": [
    {
     "data": {
      "text/html": [
       "<div>\n",
       "<table border=\"1\" class=\"dataframe\">\n",
       "  <thead>\n",
       "    <tr style=\"text-align: right;\">\n",
       "      <th></th>\n",
       "      <th>feature list</th>\n",
       "      <th>acc</th>\n",
       "      <th>confusion matrix</th>\n",
       "    </tr>\n",
       "  </thead>\n",
       "  <tbody>\n",
       "    <tr>\n",
       "      <th>88</th>\n",
       "      <td>(Slope, Elevation, FlowAcc_Flow1, StreamO_over1)</td>\n",
       "      <td>0.923851</td>\n",
       "      <td>[[117, 37], [84, 1351]]</td>\n",
       "    </tr>\n",
       "  </tbody>\n",
       "</table>\n",
       "</div>"
      ],
      "text/plain": [
       "                                        feature list       acc  \\\n",
       "88  (Slope, Elevation, FlowAcc_Flow1, StreamO_over1)  0.923851   \n",
       "\n",
       "           confusion matrix  \n",
       "88  [[117, 37], [84, 1351]]  "
      ]
     },
     "execution_count": 22,
     "metadata": {},
     "output_type": "execute_result"
    }
   ],
   "source": [
    "max_rnd_forest_default"
   ]
  },
  {
   "cell_type": "markdown",
   "metadata": {},
   "source": [
    "### Some of the top results"
   ]
  },
  {
   "cell_type": "code",
   "execution_count": 23,
   "metadata": {
    "collapsed": false
   },
   "outputs": [
    {
     "data": {
      "text/html": [
       "<div>\n",
       "<table border=\"1\" class=\"dataframe\">\n",
       "  <thead>\n",
       "    <tr style=\"text-align: right;\">\n",
       "      <th></th>\n",
       "      <th>feature list</th>\n",
       "      <th>acc</th>\n",
       "      <th>confusion matrix</th>\n",
       "    </tr>\n",
       "  </thead>\n",
       "  <tbody>\n",
       "    <tr>\n",
       "      <th>88</th>\n",
       "      <td>(Slope, Elevation, FlowAcc_Flow1, StreamO_over1)</td>\n",
       "      <td>0.923851</td>\n",
       "      <td>[[117, 37], [84, 1351]]</td>\n",
       "    </tr>\n",
       "    <tr>\n",
       "      <th>90</th>\n",
       "      <td>(Elevation, FlowDir, FlowAcc_Flow1, StreamO_ov...</td>\n",
       "      <td>0.905601</td>\n",
       "      <td>[[124, 30], [120, 1315]]</td>\n",
       "    </tr>\n",
       "    <tr>\n",
       "      <th>103</th>\n",
       "      <td>(May_Mean_Temp1, Slope, Elevation, FlowAcc_Flo...</td>\n",
       "      <td>0.905601</td>\n",
       "      <td>[[133, 21], [129, 1306]]</td>\n",
       "    </tr>\n",
       "    <tr>\n",
       "      <th>108</th>\n",
       "      <td>(May_Mean_Precip1, Slope, Elevation, FlowAcc_F...</td>\n",
       "      <td>0.900566</td>\n",
       "      <td>[[131, 23], [135, 1300]]</td>\n",
       "    </tr>\n",
       "    <tr>\n",
       "      <th>118</th>\n",
       "      <td>(May_Mean_Precip1, Slope, Elevation, FlowDir, ...</td>\n",
       "      <td>0.909377</td>\n",
       "      <td>[[131, 23], [121, 1314]]</td>\n",
       "    </tr>\n",
       "  </tbody>\n",
       "</table>\n",
       "</div>"
      ],
      "text/plain": [
       "                                          feature list       acc  \\\n",
       "88    (Slope, Elevation, FlowAcc_Flow1, StreamO_over1)  0.923851   \n",
       "90   (Elevation, FlowDir, FlowAcc_Flow1, StreamO_ov...  0.905601   \n",
       "103  (May_Mean_Temp1, Slope, Elevation, FlowAcc_Flo...  0.905601   \n",
       "108  (May_Mean_Precip1, Slope, Elevation, FlowAcc_F...  0.900566   \n",
       "118  (May_Mean_Precip1, Slope, Elevation, FlowDir, ...  0.909377   \n",
       "\n",
       "             confusion matrix  \n",
       "88    [[117, 37], [84, 1351]]  \n",
       "90   [[124, 30], [120, 1315]]  \n",
       "103  [[133, 21], [129, 1306]]  \n",
       "108  [[131, 23], [135, 1300]]  \n",
       "118  [[131, 23], [121, 1314]]  "
      ]
     },
     "execution_count": 23,
     "metadata": {},
     "output_type": "execute_result"
    }
   ],
   "source": [
    "result_rnd_forest_default[(result_rnd_forest_default['acc'] < 1.0) & (result_rnd_forest_default['acc'] > 0.9)]"
   ]
  },
  {
   "cell_type": "markdown",
   "metadata": {},
   "source": [
    "# Random tree with a some parameters tuned, \n",
    "### we use 13 esitmators, min_samples_split = 2 , min_samples_leaf=2"
   ]
  },
  {
   "cell_type": "code",
   "execution_count": 25,
   "metadata": {
    "collapsed": false
   },
   "outputs": [],
   "source": [
    "def parallel_classify_rnd(list_of_features,test_clusters,df):\n",
    "    X_train,y_train,X_test,y_test = special_kfold(df,\n",
    "                                                  test_clusters = test_clusters,\n",
    "                                                  list_of_features = list_of_features)\n",
    "    \n",
    "    rnd_forest = ensemble.RandomForestClassifier(n_estimators=13,min_samples_split=2, min_samples_leaf=2,n_jobs=-1)\n",
    "    my_clf = rnd_forest\n",
    "    my_clf.fit(X_train,y_train)\n",
    "    y_pred = my_clf.predict(X_test)\n",
    "    \n",
    "    return (accuracy_score(y_true=y_test,y_pred=y_pred),\n",
    "            confusion_matrix(y_true=y_test,y_pred=y_pred))\n",
    "\n",
    "feature_list = []\n",
    "acc = []\n",
    "list_of_features = ['May_Mean_Temp1', 'May_Mean_Precip1', 'Slope', 'Elevation', \n",
    "                'FlowDir','FlowAcc_Flow1', 'StreamO_over1']\n",
    "best_clusters = [23,18]\n",
    "permutations_of_features = []\n",
    "\n",
    "for r in range(2,len(list_of_features)):\n",
    "    for x in itertools.combinations(list_of_features,r=r):\n",
    "        permutations_of_features.append(x)\n",
    "\n",
    "results = [parallel_classify_rnd(list(permutation),best_clusters,df) for permutation in permutations_of_features]\n",
    "\n",
    "accs,cnf_matricies = zip(*results)\n",
    "\n",
    "nb_results = pd.DataFrame([permutations_of_features,list(accs),list(cnf_matricies)])\n",
    "nb_results = nb_results.T\n",
    "nb_results.columns = ['feature list','acc','confusion matrix']\n",
    "nb_results_max = nb_results[nb_results['acc'] == nb_results.acc.max()]"
   ]
  },
  {
   "cell_type": "markdown",
   "metadata": {},
   "source": [
    "### Best Result"
   ]
  },
  {
   "cell_type": "code",
   "execution_count": 26,
   "metadata": {
    "collapsed": false
   },
   "outputs": [
    {
     "data": {
      "text/html": [
       "<div>\n",
       "<table border=\"1\" class=\"dataframe\">\n",
       "  <thead>\n",
       "    <tr style=\"text-align: right;\">\n",
       "      <th></th>\n",
       "      <th>feature list</th>\n",
       "      <th>acc</th>\n",
       "      <th>confusion matrix</th>\n",
       "    </tr>\n",
       "  </thead>\n",
       "  <tbody>\n",
       "    <tr>\n",
       "      <th>48</th>\n",
       "      <td>(Slope, Elevation, StreamO_over1)</td>\n",
       "      <td>0.930774</td>\n",
       "      <td>[[106, 48], [62, 1373]]</td>\n",
       "    </tr>\n",
       "  </tbody>\n",
       "</table>\n",
       "</div>"
      ],
      "text/plain": [
       "                         feature list       acc         confusion matrix\n",
       "48  (Slope, Elevation, StreamO_over1)  0.930774  [[106, 48], [62, 1373]]"
      ]
     },
     "execution_count": 26,
     "metadata": {},
     "output_type": "execute_result"
    }
   ],
   "source": [
    "nb_results_max"
   ]
  },
  {
   "cell_type": "markdown",
   "metadata": {},
   "source": [
    "### Some of the Top Results"
   ]
  },
  {
   "cell_type": "code",
   "execution_count": 27,
   "metadata": {
    "collapsed": false
   },
   "outputs": [
    {
     "data": {
      "text/html": [
       "<div>\n",
       "<table border=\"1\" class=\"dataframe\">\n",
       "  <thead>\n",
       "    <tr style=\"text-align: right;\">\n",
       "      <th></th>\n",
       "      <th>feature list</th>\n",
       "      <th>acc</th>\n",
       "      <th>confusion matrix</th>\n",
       "    </tr>\n",
       "  </thead>\n",
       "  <tbody>\n",
       "    <tr>\n",
       "      <th>17</th>\n",
       "      <td>(Elevation, StreamO_over1)</td>\n",
       "      <td>0.91567</td>\n",
       "      <td>[[130, 24], [110, 1325]]</td>\n",
       "    </tr>\n",
       "    <tr>\n",
       "      <th>48</th>\n",
       "      <td>(Slope, Elevation, StreamO_over1)</td>\n",
       "      <td>0.930774</td>\n",
       "      <td>[[106, 48], [62, 1373]]</td>\n",
       "    </tr>\n",
       "    <tr>\n",
       "      <th>67</th>\n",
       "      <td>(May_Mean_Temp1, Slope, Elevation, FlowAcc_Flow1)</td>\n",
       "      <td>0.916929</td>\n",
       "      <td>[[126, 28], [104, 1331]]</td>\n",
       "    </tr>\n",
       "    <tr>\n",
       "      <th>77</th>\n",
       "      <td>(May_Mean_Precip1, Slope, Elevation, FlowAcc_F...</td>\n",
       "      <td>0.90623</td>\n",
       "      <td>[[127, 27], [122, 1313]]</td>\n",
       "    </tr>\n",
       "    <tr>\n",
       "      <th>88</th>\n",
       "      <td>(Slope, Elevation, FlowAcc_Flow1, StreamO_over1)</td>\n",
       "      <td>0.902454</td>\n",
       "      <td>[[114, 40], [115, 1320]]</td>\n",
       "    </tr>\n",
       "    <tr>\n",
       "      <th>90</th>\n",
       "      <td>(Elevation, FlowDir, FlowAcc_Flow1, StreamO_ov...</td>\n",
       "      <td>0.904972</td>\n",
       "      <td>[[127, 27], [124, 1311]]</td>\n",
       "    </tr>\n",
       "    <tr>\n",
       "      <th>101</th>\n",
       "      <td>(May_Mean_Temp1, Slope, Elevation, FlowDir, Fl...</td>\n",
       "      <td>0.901825</td>\n",
       "      <td>[[124, 30], [126, 1309]]</td>\n",
       "    </tr>\n",
       "    <tr>\n",
       "      <th>103</th>\n",
       "      <td>(May_Mean_Temp1, Slope, Elevation, FlowAcc_Flo...</td>\n",
       "      <td>0.911265</td>\n",
       "      <td>[[133, 21], [120, 1315]]</td>\n",
       "    </tr>\n",
       "    <tr>\n",
       "      <th>108</th>\n",
       "      <td>(May_Mean_Precip1, Slope, Elevation, FlowAcc_F...</td>\n",
       "      <td>0.915041</td>\n",
       "      <td>[[123, 31], [104, 1331]]</td>\n",
       "    </tr>\n",
       "    <tr>\n",
       "      <th>110</th>\n",
       "      <td>(May_Mean_Precip1, Elevation, FlowDir, FlowAcc...</td>\n",
       "      <td>0.902454</td>\n",
       "      <td>[[133, 21], [134, 1301]]</td>\n",
       "    </tr>\n",
       "    <tr>\n",
       "      <th>111</th>\n",
       "      <td>(Slope, Elevation, FlowDir, FlowAcc_Flow1, Str...</td>\n",
       "      <td>0.908118</td>\n",
       "      <td>[[121, 33], [113, 1322]]</td>\n",
       "    </tr>\n",
       "    <tr>\n",
       "      <th>114</th>\n",
       "      <td>(May_Mean_Temp1, May_Mean_Precip1, Slope, Elev...</td>\n",
       "      <td>0.909377</td>\n",
       "      <td>[[124, 30], [114, 1321]]</td>\n",
       "    </tr>\n",
       "    <tr>\n",
       "      <th>117</th>\n",
       "      <td>(May_Mean_Temp1, Slope, Elevation, FlowDir, Fl...</td>\n",
       "      <td>0.913153</td>\n",
       "      <td>[[132, 22], [116, 1319]]</td>\n",
       "    </tr>\n",
       "    <tr>\n",
       "      <th>118</th>\n",
       "      <td>(May_Mean_Precip1, Slope, Elevation, FlowDir, ...</td>\n",
       "      <td>0.913153</td>\n",
       "      <td>[[132, 22], [116, 1319]]</td>\n",
       "    </tr>\n",
       "  </tbody>\n",
       "</table>\n",
       "</div>"
      ],
      "text/plain": [
       "                                          feature list       acc  \\\n",
       "17                          (Elevation, StreamO_over1)   0.91567   \n",
       "48                   (Slope, Elevation, StreamO_over1)  0.930774   \n",
       "67   (May_Mean_Temp1, Slope, Elevation, FlowAcc_Flow1)  0.916929   \n",
       "77   (May_Mean_Precip1, Slope, Elevation, FlowAcc_F...   0.90623   \n",
       "88    (Slope, Elevation, FlowAcc_Flow1, StreamO_over1)  0.902454   \n",
       "90   (Elevation, FlowDir, FlowAcc_Flow1, StreamO_ov...  0.904972   \n",
       "101  (May_Mean_Temp1, Slope, Elevation, FlowDir, Fl...  0.901825   \n",
       "103  (May_Mean_Temp1, Slope, Elevation, FlowAcc_Flo...  0.911265   \n",
       "108  (May_Mean_Precip1, Slope, Elevation, FlowAcc_F...  0.915041   \n",
       "110  (May_Mean_Precip1, Elevation, FlowDir, FlowAcc...  0.902454   \n",
       "111  (Slope, Elevation, FlowDir, FlowAcc_Flow1, Str...  0.908118   \n",
       "114  (May_Mean_Temp1, May_Mean_Precip1, Slope, Elev...  0.909377   \n",
       "117  (May_Mean_Temp1, Slope, Elevation, FlowDir, Fl...  0.913153   \n",
       "118  (May_Mean_Precip1, Slope, Elevation, FlowDir, ...  0.913153   \n",
       "\n",
       "             confusion matrix  \n",
       "17   [[130, 24], [110, 1325]]  \n",
       "48    [[106, 48], [62, 1373]]  \n",
       "67   [[126, 28], [104, 1331]]  \n",
       "77   [[127, 27], [122, 1313]]  \n",
       "88   [[114, 40], [115, 1320]]  \n",
       "90   [[127, 27], [124, 1311]]  \n",
       "101  [[124, 30], [126, 1309]]  \n",
       "103  [[133, 21], [120, 1315]]  \n",
       "108  [[123, 31], [104, 1331]]  \n",
       "110  [[133, 21], [134, 1301]]  \n",
       "111  [[121, 33], [113, 1322]]  \n",
       "114  [[124, 30], [114, 1321]]  \n",
       "117  [[132, 22], [116, 1319]]  \n",
       "118  [[132, 22], [116, 1319]]  "
      ]
     },
     "execution_count": 27,
     "metadata": {},
     "output_type": "execute_result"
    }
   ],
   "source": [
    "nb_results[(nb_results['acc'] < 1.0) & (nb_results['acc'] > 0.9)]"
   ]
  },
  {
   "cell_type": "markdown",
   "metadata": {},
   "source": [
    "# What about SVMs"
   ]
  },
  {
   "cell_type": "code",
   "execution_count": null,
   "metadata": {
    "collapsed": false
   },
   "outputs": [],
   "source": [
    "results_naive_bayes,best_SVC_default = testy(test_model= SVC)"
   ]
  },
  {
   "cell_type": "markdown",
   "metadata": {},
   "source": [
    "Taking forever, I'm probably gonna sumbit as a job on server"
   ]
  }
 ],
 "metadata": {
  "kernelspec": {
   "display_name": "Python [Root]",
   "language": "python",
   "name": "Python [Root]"
  },
  "language_info": {
   "codemirror_mode": {
    "name": "ipython",
    "version": 2
   },
   "file_extension": ".py",
   "mimetype": "text/x-python",
   "name": "python",
   "nbconvert_exporter": "python",
   "pygments_lexer": "ipython2",
   "version": "2.7.12"
  }
 },
 "nbformat": 4,
 "nbformat_minor": 0
}
